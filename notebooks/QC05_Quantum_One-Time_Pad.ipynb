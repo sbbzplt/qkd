{
 "cells": [
  {
   "cell_type": "markdown",
   "metadata": {},
   "source": [
    "<table width=\"100%\"><tr style=\"background-color:white;\">\n",
    "    <td style=\"text-align:left;padding:0px;width:142px'\">\n",
    "        <a href=\"https://qworld.net\" target=\"_blank\">\n",
    "            <img src=\"../images/QWorld.png\"></a></td>\n",
    "    <td width=\"*\">&nbsp;&nbsp;&nbsp;&nbsp;&nbsp;&nbsp;</td>\n",
    "    <!-- ############################################# -->\n",
    "    <td style=\"padding:0px;width:90px;\">\n",
    "        <img align=\"right\" src=\"../images/follow_us.png\" height=\"40px\"></td>\n",
    "    <td style=\"padding:0px;width:40px;\">\n",
    "        <a href=\"https://twitter.com/QWorld19\" target=\"_blank\">\n",
    "        <img align=\"right\" src=\"../images/Twitter.png\" width=\"40px\"></a> </td>\n",
    "    <td style=\"padding:0px;width:5px;\"></td>\n",
    "    <td style=\"padding:0px;width:40px;\">\n",
    "        <a href=\"https://www.facebook.com/qworld19/\" target=\"_blank\">\n",
    "        <img align=\"right\" src=\"../images/Fb.png\"></a></td>\n",
    "    <td style=\"padding:0px;width:5px;\"></td>\n",
    "    <td style=\"padding:0px;width:40px;\">\n",
    "        <a href=\"https://www.linkedin.com/company/qworld19\" target=\"_blank\">\n",
    "        <img align=\"right\" src=\"../images/LinkedIn.png\"></a></td>\n",
    "    <td style=\"padding:0px;width:5px;\"></td>\n",
    "    <td style=\"padding:0px;width:40px;\">\n",
    "        <a href=\"https://www.youtube.com/qworld19\" target=\"_blank\">\n",
    "        <img align=\"right\" src=\"../images/YT.png\"></a></td>\n",
    "    <!-- ############################################# -->\n",
    "    <td style=\"padding:0px;width:60px;\">\n",
    "        <img align=\"right\" src=\"../images/join.png\" height=\"40px\"></td>\n",
    "    <td style=\"padding:0px;width:40px;\">\n",
    "        <a href=\"https://discord.gg/akCvr7U87g\"\n",
    "           target=\"_blank\">\n",
    "        <img align=\"right\" src=\"../images/Discord.png\"></a></td>\n",
    "    <!-- ############################################# -->\n",
    "    <td style=\"padding:0px;width:72px;\">\n",
    "        <img align=\"right\" src=\"../images/w3.png\" height=\"40px\"></td>\n",
    "    <td style=\"padding:0px;width:40px;\">\n",
    "        <a href=\"https://qworld.net\" target=\"_blank\">\n",
    "        <img align=\"right\" src=\"../images/www.png\"></a></td>\n",
    "</tr></table>\n",
    "\n",
    "<table width = \"100%\">\n",
    "  <tr style=\"background-color:white;\">\n",
    "    <td style=\"text-align:right;vertical-align:bottom;font-size:12px;\"> \n",
    "        Prepared by Anastasija Trizna (QPoland, QLatvia) & <a href=\"https://www.linkedin.com/in/sabah-ud-din-ahmad\" target=\"_blank\"> Sabah Ud Din Ahmad</a> (QPakistan)</td>\n",
    "    </tr>\n",
    "    <tr><td align=\"right\" style=\"color:#bbbbbb;background-color:#ffffff;font-size:11px;font-style:italic;\">\n",
    "        This cell contains some macros. If there is a problem with displaying mathematical formulas, please run this cell to load these macros.\n",
    "    </td></tr>\n",
    " </table>\n",
    " \n",
    "$ \\newcommand{\\bra}[1]{\\langle #1|} $\n",
    "$ \\newcommand{\\ket}[1]{|#1\\rangle} $\n",
    "$ \\newcommand{\\braket}[2]{\\langle #1|#2\\rangle} $\n",
    "$ \\newcommand{\\dot}[2]{ #1 \\cdot #2} $\n",
    "$ \\newcommand{\\biginner}[2]{\\left\\langle #1,#2\\right\\rangle} $\n",
    "$ \\newcommand{\\mymatrix}[2]{\\left( \\begin{array}{#1} #2\\end{array} \\right)} $\n",
    "$ \\newcommand{\\myvector}[1]{\\mymatrix{c}{#1}} $\n",
    "$ \\newcommand{\\myrvector}[1]{\\mymatrix{r}{#1}} $\n",
    "$ \\newcommand{\\mypar}[1]{\\left( #1 \\right)} $\n",
    "$ \\newcommand{\\mybigpar}[1]{ \\Big( #1 \\Big)} $\n",
    "$ \\newcommand{\\sqrttwo}{\\frac{1}{\\sqrt{2}}} $\n",
    "$ \\newcommand{\\dsqrttwo}{\\dfrac{1}{\\sqrt{2}}} $\n",
    "$ \\newcommand{\\onehalf}{\\frac{1}{2}} $\n",
    "$ \\newcommand{\\donehalf}{\\dfrac{1}{2}} $\n",
    "$ \\newcommand{\\hadamard}{ \\mymatrix{rr}{ \\sqrttwo & \\sqrttwo \\\\ \\sqrttwo & -\\sqrttwo }} $\n",
    "$ \\newcommand{\\vzero}{\\myvector{1\\\\0}} $\n",
    "$ \\newcommand{\\vone}{\\myvector{0\\\\1}} $\n",
    "$ \\newcommand{\\vhadamardzero}{\\myvector{ \\sqrttwo \\\\  \\sqrttwo } } $\n",
    "$ \\newcommand{\\vhadamardone}{ \\myrvector{ \\sqrttwo \\\\ -\\sqrttwo } } $\n",
    "$ \\newcommand{\\myarray}[2]{ \\begin{array}{#1}#2\\end{array}} $\n",
    "$ \\newcommand{\\X}{ \\mymatrix{cc}{0 & 1 \\\\ 1 & 0}  } $\n",
    "$ \\newcommand{\\Z}{ \\mymatrix{rr}{1 & 0 \\\\ 0 & -1}  } $\n",
    "$ \\newcommand{\\Htwo}{ \\mymatrix{rrrr}{ \\frac{1}{2} & \\frac{1}{2} & \\frac{1}{2} & \\frac{1}{2} \\\\ \\frac{1}{2} & -\\frac{1}{2} & \\frac{1}{2} & -\\frac{1}{2} \\\\ \\frac{1}{2} & \\frac{1}{2} & -\\frac{1}{2} & -\\frac{1}{2} \\\\ \\frac{1}{2} & -\\frac{1}{2} & -\\frac{1}{2} & \\frac{1}{2} } } $\n",
    "$ \\newcommand{\\CNOT}{ \\mymatrix{cccc}{1 & 0 & 0 & 0 \\\\ 0 & 1 & 0 & 0 \\\\ 0 & 0 & 0 & 1 \\\\ 0 & 0 & 1 & 0} } $\n",
    "$ \\newcommand{\\norm}[1]{ \\left\\lVert #1 \\right\\rVert } $\n",
    "\n",
    " ---"
   ]
  },
  {
   "cell_type": "markdown",
   "metadata": {},
   "source": [
    "<h2>Quantum One-Time Pad</h2>"
   ]
  },
  {
   "cell_type": "markdown",
   "metadata": {},
   "source": [
    "Quantum One-Time Pad is the quantum version of classical One-Time Pad. \n",
    "\n",
    "Let's first use the standard basis $\\{ \\ket{0}, \\ket{1}\\}$.\n",
    "\n",
    "<h3> Standard Basis $\\{ \\ket{0}, \\ket{1}\\}$</h3>\n",
    "\n",
    "Suppose Asja wants to send one qubit to Balvis, such that Espian cannot decrypt it.\n",
    "\n",
    "By using a pre-shared classical key, say $ k \\in\\{0,1\\} $, for encryption Asja will apply $X$ gate to her qubit if $k=1$ and do nothing if $k=0$:\n",
    "$$\\ket{E} = X_k\\ket{M}$$\n",
    "where\n",
    "$$X\\ket{M} = \\ket{M \\oplus 1}$$\n",
    "\n",
    "To decrypt Balvis will re-apply $X$ gate if $k=1$ and do nothing if $k=0$:\n",
    "\n",
    "$$\\ket{M} = X_k\\ket{E}$$"
   ]
  },
  {
   "cell_type": "markdown",
   "metadata": {},
   "source": [
    "<div class=\"alert alert-block alert-warning\">\n",
    "    <h4>Example 1: Encryption in Standard Basis</h4>\n",
    "    <br>\n",
    "    <div class=\"panel panel-block panel-warning\">\n",
    "        Let's create a program where Asja encrypts an 8-bit message \"10001100\" using states in standard basis $\\{ \\ket{0}, \\ket{1}\\}$ and a randomly generated key string (equal length).\n",
    "        \n",
    "We will assume that $q(0)$ is our most-significant-bit (MSB).\n",
    "    </div>\n",
    "</div>"
   ]
  },
  {
   "cell_type": "code",
   "execution_count": 1,
   "metadata": {},
   "outputs": [
    {
     "data": {
      "image/png": "[encoded data removed]",
      "text/plain": [
       "<Figure size 821.978x565.88 with 1 Axes>"
      ]
     },
     "execution_count": 1,
     "metadata": {},
     "output_type": "execute_result"
    }
   ],
   "source": [
    "# Encryption\n",
    "\n",
    "# import all necessary objects and methods for quantum circuits\n",
    "from qiskit import QuantumRegister, ClassicalRegister, QuantumCircuit, execute, Aer\n",
    "from random import randrange\n",
    "\n",
    "# create a quantum curcuit for Asja's qubits.\n",
    "# It's initially set to |0>.\n",
    "qregA = QuantumRegister(8) # quantum register with 8 qubits\n",
    "cregA = ClassicalRegister(8) # classical register with 8 bits\n",
    "mycircuitA = QuantumCircuit(qregA,cregA) # quantum circuit with quantum and classical registers\n",
    "\n",
    "# Enter your message as a list of numbers\n",
    "message = [1,0,0,0,1,1,0,0]\n",
    "# apply x-gate to change initial states from 0 to 1, preparing message \"10001100\"\n",
    "for m in range(len(message)):\n",
    "    if message[m]==1:\n",
    "        mycircuitA.x(qregA[m])\n",
    "\n",
    "# barrier for a better visualization\n",
    "mycircuitA.barrier()\n",
    "\n",
    "# create random key and apply x gates and encrypt message\n",
    "key=[] \n",
    "for i in range(8):\n",
    "    a=randrange(2)\n",
    "    key.append(a)\n",
    "    if a==1:\n",
    "        mycircuitA.x(qregA[i])\n",
    "        \n",
    "mycircuitA.barrier()\n",
    "mycircuitA.measure(qregA,cregA)\n",
    "mycircuitA.draw(output='mpl')"
   ]
  },
  {
   "cell_type": "code",
   "execution_count": 2,
   "metadata": {},
   "outputs": [
    {
     "name": "stdout",
     "output_type": "stream",
     "text": [
      "Encryption {'10010001': 1024}\n",
      "\n",
      "Message: [1, 0, 0, 0, 1, 1, 0, 0]\n",
      "Key: [0, 0, 0, 0, 0, 1, 0, 1]\n",
      "\n",
      "Encrypted Message: [1, 0, 0, 0, 1, 0, 0, 1]\n"
     ]
    }
   ],
   "source": [
    "# execute the circuit\n",
    "job = execute(mycircuitA,Aer.get_backend('qasm_simulator'))\n",
    "encryption = job.result().get_counts(mycircuitA)\n",
    "\n",
    "# display the measurement results with total count\n",
    "print(\"Encryption\", encryption)\n",
    "# this converts the measurement result string into a list\n",
    "encrypted_message=list(map(int,[*list(encryption.keys())[0]]))\n",
    "\n",
    "# we reverse the list since the quantum simulator considers our MSB as LSB\n",
    "encrypted_message.reverse()\n",
    "print()\n",
    "print(\"Message:\", message)\n",
    "print(\"Key:\", key)\n",
    "print()\n",
    "print(\"Encrypted Message:\", encrypted_message)"
   ]
  },
  {
   "cell_type": "markdown",
   "metadata": {},
   "source": [
    "<font style=\"color:darkorange;font-weight:bold;\"> <h2>Task 1</h2> </font>\n",
    "\n",
    "**Decryption in Standard Basis**\n",
    "\n",
    "Using the encrypted message string and the key from the above example, create a program for Balvis to decrypt the 8-bit cipher using the same key and the standard basis ($\\ket{0}$ and $\\ket{1}$) using \n",
    "\n",
    "Check if the protocol is correct."
   ]
  },
  {
   "cell_type": "code",
   "execution_count": null,
   "metadata": {},
   "outputs": [],
   "source": [
    "# Decryption\n",
    "\n",
    "# import all necessary objects and methods for quantum circuits\n",
    "from qiskit import QuantumRegister, ClassicalRegister, QuantumCircuit, execute, Aer\n",
    "from random import randrange\n",
    "\n",
    "# create a quantum curcuit for Balvis' qubits.\n",
    "# It's initially set to |0>.\n",
    "# You can use qregB and cregB instead of qregA and cregA to distinguish.\n",
    "\n",
    "### YOUR CODE HERE ###\n",
    "\n",
    "\n",
    "\n",
    "# apply x-gate to change initial states from 0 to 1, preparing the state with encrypted message\n",
    "for m in range(len(encrypted_message)):\n",
    "    if encrypted_message[m]==1:\n",
    "        ### YOUR CODE HERE ###\n",
    "\n",
    "\n",
    "# use the same random key and apply x gates to decrypt message\n",
    "### YOUR CODE HERE ###\n",
    "        \n",
    "    \n",
    "\n",
    "# Perform Measurement\n",
    "### YOUR CODE HERE ###\n",
    "\n",
    "mycircuitB.draw(output='mpl')"
   ]
  },
  {
   "cell_type": "code",
   "execution_count": null,
   "metadata": {},
   "outputs": [],
   "source": [
    "# execute the circuit\n",
    "job = execute(mycircuitB,Aer.get_backend('qasm_simulator'))\n",
    "decryption = job.result().get_counts(mycircuitB)\n",
    "\n",
    "# display the measurement results with total count\n",
    "print(\"Decryption\", decryption)\n",
    "# this converts the measurement result string into a list\n",
    "decrypted_message=list(map(int,[*list(decryption.keys())[0]]))\n",
    "\n",
    "# we reverse the list since the quantum simulator considers our MSB as LSB\n",
    "decrypted_message.reverse()\n",
    "print()\n",
    "print(\"Message:\", message)\n",
    "print(\"Decrypted Message:\", decrypted_message)\n",
    "print()  \n",
    "  \n",
    "if message == decrypted_message:  \n",
    "    print(\"Protocol is correct!\")  \n",
    "else:  \n",
    "    print(\"Protocol is incorrect!\")"
   ]
  },
  {
   "cell_type": "markdown",
   "metadata": {},
   "source": [
    "[Click here for solution](QC05_Quantum_One-Time_Pad_Solutions.ipynb#task1)\n",
    "\n",
    "***"
   ]
  },
  {
   "cell_type": "markdown",
   "metadata": {},
   "source": [
    "<font style=\"color:darkorange;font-weight:bold;\"> <h2>Task 2</h2> </font>\n",
    "\n",
    "Create a program where Asja encrypts a 16-bit message \"1001000110001100\" using states in standard basis  {|0⟩,|1⟩}  and a randomly generated key string (equal length).\n",
    "We will assume that  𝑞(0)  is our most-significant-bit (MSB).  \n",
    "\n",
    "Then, check if the protocol is correct."
   ]
  },
  {
   "cell_type": "code",
   "execution_count": null,
   "metadata": {},
   "outputs": [],
   "source": [
    "### YOUR CODE HERE ###\n",
    "\n"
   ]
  },
  {
   "cell_type": "markdown",
   "metadata": {},
   "source": [
    "[Click here for solution](QC05_Quantum_One-Time_Pad_Solutions.ipynb#task2)\n",
    "\n",
    "***"
   ]
  },
  {
   "cell_type": "markdown",
   "metadata": {},
   "source": [
    "<h3> Hadamard Basis $\\{ \\ket{+}, \\ket{-}\\}$</h3>\n",
    "\n",
    "What happens if Asja decides to change the basis? \n",
    "\n",
    "Suppose that Asja changes the quantum basis from standard to Hadamard $\\{ \\ket{+}, \\ket{-}\\}$. \n",
    "\n",
    "\n",
    "<font style=\"color:darkorange;font-weight:bold;\"> <h2>Task 3</h2> </font>\n",
    "\n",
    "Using Hadamard Basis and replacing $\\ket{0}$ with $\\ket{+}$ and $\\ket{1}$ with $\\ket{-}$, encrypt message from **Example 1** with $X$ gates and check if the protocol is correct. "
   ]
  },
  {
   "cell_type": "code",
   "execution_count": null,
   "metadata": {},
   "outputs": [],
   "source": [
    "### YOUR CODE HERE ###\n"
   ]
  },
  {
   "cell_type": "markdown",
   "metadata": {},
   "source": [
    "[Click here for solution](QC05_Quantum_One-Time_Pad_Solutions.ipynb#task3)\n",
    "\n",
    "***"
   ]
  },
  {
   "cell_type": "markdown",
   "metadata": {},
   "source": [
    "As you can see from the result, when Asja switches to Hadamard basis, encoding with $X$ gate doesn't work any more because,\n",
    "$$\n",
    "    \\ket{+} → \\frac{1}{\\sqrt{2}} \\ket{0} + \\frac{1}{\\sqrt{2}} \\ket{1}\n",
    "$$\n",
    "$$\n",
    "    X\\ket{+} → \\frac{1}{\\sqrt{2}} X\\ket{0} + \\frac{1}{\\sqrt{2}} X\\ket{1} = \\frac{1}{\\sqrt{2}} \\ket{1} + \\frac{1}{\\sqrt{2}} \\ket{0} → \\ket{+} \n",
    "$$\n",
    "\n",
    "$$\n",
    "    \\ket{-} → \\frac{1}{\\sqrt{2}} \\ket{0} - \\frac{1}{\\sqrt{2}} \\ket{1}\n",
    "$$\n",
    "$$\n",
    "    X\\ket{-} → \\frac{1}{\\sqrt{2}} X\\ket{0} - \\frac{1}{\\sqrt{2}} X\\ket{1} = \\frac{1}{\\sqrt{2}} \\ket{1} - \\frac{1}{\\sqrt{2}} \\ket{0} → -\\ket{-} \n",
    "$$\n",
    "\n",
    "So, $X\\ket{+} → \\ket{+}$ and $X\\ket{-} → -\\ket{-}$."
   ]
  },
  {
   "cell_type": "markdown",
   "metadata": {},
   "source": [
    "The solution is to use $Z$ gate, which is a bit-flip operation for Hadamard basis. \n",
    "\n",
    "<b> Z operator</b> is the reflection over $x$-axis: $ Z = \\mymatrix{rr}{ 1 & 0 \\\\ 0 & -1 } $\n",
    "\n",
    "$$\n",
    "    Z\\ket{+} → \\ket{-} \n",
    "$$\n",
    "$$\n",
    "    Z\\ket{-} → \\ket{+} \n",
    "$$"
   ]
  },
  {
   "cell_type": "markdown",
   "metadata": {},
   "source": [
    "However, note that $Z$ gate doesn't work for encrypting message in standard basis because,\n",
    "\n",
    "$$\n",
    "    Z\\ket{0} → \\ket{0} \n",
    "$$\n",
    "$$\n",
    "    Z\\ket{1} → -\\ket{1} \n",
    "$$\n",
    "\n",
    "Thus, in contrast with classical one-time pad, in quantum one-time pad, Asja will need to use <b>two bits</b> of the key <b>k<sub>1</sub>k<sub>2</sub></b> to encode one quantum state $ \\ket{Ψ} $: one bit for X-gate and the second for Z-gate. So, the **key must be twice as long as the message**. \n",
    "\n",
    "The reason for using both bases will be explained in detail in the notebook: [Distributing Quantum States](QC09_Distributing_quantum_states.ipynb)"
   ]
  },
  {
   "cell_type": "markdown",
   "metadata": {},
   "source": [
    "<h3> Complete Quantum One-Time Pad </h3>\n",
    "\n",
    "Now we have all knowledge needed to develop the final protocol. \n",
    "\n",
    "<b>$X$</b> gate is good to encrypt in Standard basis.\n",
    "\n",
    "<b>$Z$</b> gate is good to encrypt in Hadamard basis.\n",
    "\n",
    "By using a pre-shared classical key, Asja will apply both gates (X and Z) to her qubit.\n",
    "\n",
    "\n",
    "$$\\ket{E}= X_{k1}Z_{k2}\\ket{M}$$\n",
    "\n",
    "$$X\\ket{M} =  \\ket{M \\oplus 1}$$\n",
    "\n",
    "$$Z\\ket{M} =  (-1)^{M}\\ket{M}$$\n",
    "\n",
    "For decryption,\n",
    "\n",
    "$$\\ket{M} = Z_{k2}X_{k1}\\ket{E}=Z_{k2}X_{k1}(X_{k1}Z_{k2}\\ket{M})=\\ket{M}$$\n",
    "\n",
    "where $X_{k1}X_{k1}=I$ and $Z_{k2}Z_{k2}=I$."
   ]
  },
  {
   "cell_type": "markdown",
   "metadata": {},
   "source": [
    "<font style=\"color:darkorange;font-weight:bold;\"> <h2>Project Task 4</h2> </font>\n",
    "\n",
    "Let's develop a quantum OTP!\n",
    "\n",
    "Create a program where Asja encrypts 8-bit message using both bases ($\\ket{0}$,$\\ket{1}$ and $\\ket{+}$,$\\ket{-}$) and randomly generated key string. \n",
    "Decrypt it afterwards to ensure that the protocol is correct."
   ]
  },
  {
   "cell_type": "code",
   "execution_count": null,
   "metadata": {},
   "outputs": [],
   "source": [
    "### YOUR CODE HERE ###\n"
   ]
  },
  {
   "cell_type": "markdown",
   "metadata": {},
   "source": [
    "<h3> Summary </h3>\n",
    "\n",
    "We can see that One-time Pad protocol idea can be implemented in quantum communication. Quantum one-time pad protocol is correct and secure, even if we assume that our eavesdropper has powerful quantum computer with infinite quantum memory and can listen the channel.\n",
    "\n",
    "**Drawbacks:**\n",
    "<ul>\n",
    "    <li> The key we are using is classical, which means that it is not truly random.\n",
    "<li> The key is an important resource. For quantum One-Time Pad, we need a key that is twice as long as the message, otherwise Asja and Balvis will be unable to communicate once they run out of key.\n",
    "</ul>\n",
    "\n",
    "<b>Luckily, these two problems are addressed by Quantum Key Distribution Techniques.</b>"
   ]
  },
  {
   "cell_type": "markdown",
   "metadata": {},
   "source": [
    "Next: [No-Cloning Theorem](QC06_No-Cloning_Theorem.ipynb)"
   ]
  }
 ],
 "metadata": {
  "kernelspec": {
   "display_name": "Python 3",
   "language": "python",
   "name": "python3"
  },
  "language_info": {
   "codemirror_mode": {
    "name": "ipython",
    "version": 3
   },
   "file_extension": ".py",
   "mimetype": "text/x-python",
   "name": "python",
   "nbconvert_exporter": "python",
   "pygments_lexer": "ipython3",
   "version": "3.8.10"
  }
 },
 "nbformat": 4,
 "nbformat_minor": 2
}
